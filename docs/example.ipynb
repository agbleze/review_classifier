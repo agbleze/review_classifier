{
    "cells": [
        {
            "cell_type": "markdown",
            "metadata": {},
            "source": [
                "# Using review_classifier to train model in terminal\n",
                "\n",
                "To train your model to classifier reviews, install review_classifier as recommended in the README\n"
            ]
        },
        {
            "cell_type": "markdown",
            "metadata": {},
            "source": [
                "### Data requirement\n",
                "\n",
                "Data is expected to be a csv file with columns: reviews.text, reviews.doRecommend, and split. reviews.text column should contain the product review texts, reviews.doRecommend column specifies whether product was recommended with values true and false and split column is the group sample belongs to in the model development process with values as train, val, test.\n",
                "\n"
            ]
        },
        {
            "cell_type": "markdown",
            "metadata": {},
            "source": [
                "## Model training\n",
                "\n",
                "An example of training command and parameters to train the model in your terminal is provided below:\n"
            ]
        },
        {
            "cell_type": "markdown",
            "metadata": {},
            "source": [
                "\n",
                "review_classifier --data_csv your_review_data_path.csv \\\n",
                "    --vectorizer_file your_vectorizer_filepath.json \\\n",
                "    --model_state_file your_model_state_filepath.pth \\\n",
                "    --save_dir your_directory_to_store_model \\\n",
                "    --expand_filepaths_to_save_dir \\\n",
                "    --num_epochs your_number_of_epochs \\\n",
                "    --batch_size your_batch_size_to_use \\\n",
                "    --learning_rate your_learning_rate \\\n",
                "    --tqdm_in_cli \n",
                "   \n",
                "\n",
                "\n",
                "\n"
            ]
        },
        {
            "cell_type": "markdown",
            "metadata": {},
            "source": [
                "### Additional useful parameters\n",
                "\n",
                "In case, you want to resume training from a previous model, diagnose mode after training and also specify the number of samples to use for that, then you have to include the following parameters in your training command\n",
                "\n",
                "--resume_train \\\n",
                "--diagnose_model \\\n",
                "--num_samples_to_diagnose 5\n",
                "\n",
                "Options are provided for using pretrained embedding such as glove. To use that you have to include the following in your training command\n",
                "\n",
                "--use_glove \\\n",
                "--glove_filepath path_to_glove_file.txt\n",
                "\n",
                "\n",
                "Example, your glove file containing the embedding may be data/glove.6B.300d.txt\n",
                "\n"
            ]
        }
    ],
    "metadata": {
        "kernelspec": {
            "display_name": "Python 3",
            "language": "python",
            "name": "python3"
        },
        "language_info": {
            "codemirror_mode": {
                "name": "ipython",
                "version": 3
            },
            "file_extension": ".py",
            "mimetype": "text/x-python",
            "name": "python",
            "nbconvert_exporter": "python",
            "pygments_lexer": "ipython3",
            "version": "3.8.5"
        }
    },
    "nbformat": 4,
    "nbformat_minor": 4
}
